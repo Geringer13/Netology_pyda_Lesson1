{
 "cells": [
  {
   "cell_type": "code",
   "execution_count": 157,
   "id": "2cf7d1bd-f5d6-452b-b635-a9a9568f79e7",
   "metadata": {},
   "outputs": [
    {
     "data": {
      "text/html": [
       "\n",
       "            <div>\n",
       "                <p><b>SparkSession - in-memory</b></p>\n",
       "                \n",
       "        <div>\n",
       "            <p><b>SparkContext</b></p>\n",
       "\n",
       "            <p><a href=\"http://GLS-LTS-NB029.corp.hendel.pro:4040\">Spark UI</a></p>\n",
       "\n",
       "            <dl>\n",
       "              <dt>Version</dt>\n",
       "                <dd><code>v3.5.4</code></dd>\n",
       "              <dt>Master</dt>\n",
       "                <dd><code>local[*]</code></dd>\n",
       "              <dt>AppName</dt>\n",
       "                <dd><code>Jupyter-Spark</code></dd>\n",
       "            </dl>\n",
       "        </div>\n",
       "        \n",
       "            </div>\n",
       "        "
      ],
      "text/plain": [
       "<pyspark.sql.session.SparkSession at 0x229c0e4dc10>"
      ]
     },
     "execution_count": 157,
     "metadata": {},
     "output_type": "execute_result"
    }
   ],
   "source": [
    "import findspark\n",
    "findspark.init()  # Инициализация Spark\n",
    "\n",
    "from pyspark.sql import SparkSession\n",
    "from pyspark.sql import functions as F\n",
    "from pyspark.sql import Window\n",
    "\n",
    "# Создаём SparkSession\n",
    "spark = SparkSession.builder \\\n",
    "    .appName(\"Jupyter-Spark\") \\\n",
    "    .master(\"local[*]\") \\\n",
    "    .getOrCreate()\n",
    "\n",
    "# Проверяем, что Spark работает\n",
    "spark"
   ]
  },
  {
   "cell_type": "code",
   "execution_count": 147,
   "id": "02bd3a28-0b6f-47c8-9a7b-f2183dd209a1",
   "metadata": {
    "scrolled": true
   },
   "outputs": [
    {
     "name": "stdout",
     "output_type": "stream",
     "text": [
      "+--------+-------------+--------------------------+\n",
      "|iso_code|     location|(total_cases / population)|\n",
      "+--------+-------------+--------------------------+\n",
      "|     AND|      Andorra|        20.809357406328868|\n",
      "|     SMR|   San Marino|         16.37008662855796|\n",
      "|     MNE|   Montenegro|        14.777818113498348|\n",
      "|     QAT|        Qatar|        14.164645304158887|\n",
      "|     BHR|      Bahrain|        13.656087302235624|\n",
      "|     CZE|      Czechia|        13.287636770703322|\n",
      "|     LUX|   Luxembourg|         13.13894622158038|\n",
      "|     USA|United States|         12.53664414351345|\n",
      "|     PAN|       Panama|        12.028483570843207|\n",
      "|     ISR|       Israel|        11.996087708440177|\n",
      "|     BEL|      Belgium|        10.437872661182217|\n",
      "|     SVN|     Slovenia|        10.320871485936047|\n",
      "|     ARM|      Armenia|        10.115108020493825|\n",
      "|     ESP|        Spain|         9.465290406759026|\n",
      "|     PRT|     Portugal|         9.087371246422988|\n",
      "+--------+-------------+--------------------------+\n",
      "only showing top 15 rows\n",
      "\n"
     ]
    }
   ],
   "source": [
    "# Выберите 15 стран с наибольшим процентом переболевших на 31 марта (в выходящем датасете необходимы колонки: iso_code, страна, процент переболевших)\n",
    "df1 = spark.read.option(\"header\", \"true\").csv(\"covid-data.csv\")\n",
    "df1.select('iso_code', 'location', 'population', 'total_cases').filter(df1.date <= '2021-03-31').groupBy('iso_code', 'location').\\\n",
    "    agg(F.sum(\"total_cases\").alias(\"total_cases\"), F.min(\"population\").alias(\"population\")).\\\n",
    "    select('iso_code', 'location', F.col('total_cases')/F.col('population')).sort(F.col('(total_cases / population)').desc()).show(15)"
   ]
  },
  {
   "cell_type": "code",
   "execution_count": 153,
   "id": "67f9d80f-7a0b-4f74-b801-0a20e4d72501",
   "metadata": {},
   "outputs": [
    {
     "name": "stdout",
     "output_type": "stream",
     "text": [
      "+----------+-------------+---------+\n",
      "|      date|     location|new_cases|\n",
      "+----------+-------------+---------+\n",
      "|2021-03-25|       Brazil|   100158|\n",
      "|2021-03-31|       Brazil|    90638|\n",
      "|2021-03-27|       Brazil|    85948|\n",
      "|2021-03-30|       Brazil|    84494|\n",
      "|2021-03-26|       Brazil|    84245|\n",
      "|2021-03-26|United States|    77321|\n",
      "|2021-03-31|        India|    72330|\n",
      "|2021-03-29|United States|    69429|\n",
      "|2021-03-28|        India|    68020|\n",
      "|2021-03-25|United States|    67465|\n",
      "+----------+-------------+---------+\n",
      "only showing top 10 rows\n",
      "\n"
     ]
    }
   ],
   "source": [
    "#Top 10 стран с максимальным зафиксированным кол-вом новых случаев за последнюю неделю марта 2021 в отсортированном порядке по убыванию\n",
    "#(в выходящем датасете необходимы колонки: число, страна, кол-во новых случаев)\n",
    "df2 = spark.read.option(\"header\", \"true\").csv(\"covid-data.csv\")\n",
    "df2.select('date', 'location', 'new_cases').\\\n",
    "    filter((F.col('date') >= '2021-03-25') & (F.col('date') <= '2021-03-31') & (F.col('continent') != '')).\\\n",
    "    groupBy('date', 'location').\\\n",
    "    agg(F.sum(\"new_cases\").cast('int').alias(\"new_cases\")).\\\n",
    "    sort(F.col('new_cases').desc()).show(10)"
   ]
  },
  {
   "cell_type": "code",
   "execution_count": 169,
   "id": "de9a4c56-9e92-4aef-a7d0-f92d3bc105a4",
   "metadata": {},
   "outputs": [
    {
     "name": "stdout",
     "output_type": "stream",
     "text": [
      "+----------+--------+---------+-------------+------+\n",
      "|      date|location|new_cases|prv_new_cases| delta|\n",
      "+----------+--------+---------+-------------+------+\n",
      "|2021-03-25|  Russia|   9128.0|         NULL|  NULL|\n",
      "|2021-03-26|  Russia|   9073.0|       9128.0| -55.0|\n",
      "|2021-03-27|  Russia|   8783.0|       9073.0|-290.0|\n",
      "|2021-03-28|  Russia|   8979.0|       8783.0| 196.0|\n",
      "|2021-03-29|  Russia|   8589.0|       8979.0|-390.0|\n",
      "|2021-03-30|  Russia|   8162.0|       8589.0|-427.0|\n",
      "|2021-03-31|  Russia|   8156.0|       8162.0|  -6.0|\n",
      "+----------+--------+---------+-------------+------+\n",
      "\n"
     ]
    }
   ],
   "source": [
    "#Посчитайте изменение случаев относительно предыдущего дня в России за последнюю неделю марта 2021. \n",
    "#(например: в россии вчера было 9150 , сегодня 8763, итог: -387) \n",
    "#(в выходящем датасете необходимы колонки: число, кол-во новых случаев вчера, кол-во новых случаев сегодня, дельта)\n",
    "from pyspark.sql import Window\n",
    "from pyspark.sql.functions import col, lag \n",
    "df2 = spark.read.option(\"header\", \"true\").csv(\"covid-data.csv\")\n",
    "w = Window.partitionBy().orderBy(\"date\")\n",
    "df2.select('date', 'location', 'new_cases').\\\n",
    "    filter((F.col('date') >= '2021-03-25') & (F.col('date') <= '2021-03-31') & (F.col('location') == 'Russia')).\\\n",
    "    withColumn('prv_new_cases', lag('new_cases').over(w)).\\\n",
    "    withColumn('delta', F.col('new_cases') - F.col('prv_new_cases')).show()"
   ]
  }
 ],
 "metadata": {
  "kernelspec": {
   "display_name": "Python 3 (ipykernel)",
   "language": "python",
   "name": "python3"
  },
  "language_info": {
   "codemirror_mode": {
    "name": "ipython",
    "version": 3
   },
   "file_extension": ".py",
   "mimetype": "text/x-python",
   "name": "python",
   "nbconvert_exporter": "python",
   "pygments_lexer": "ipython3",
   "version": "3.12.4"
  }
 },
 "nbformat": 4,
 "nbformat_minor": 5
}
